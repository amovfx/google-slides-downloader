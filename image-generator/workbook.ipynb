{
 "cells": [
  {
   "cell_type": "code",
   "execution_count": 1,
   "metadata": {},
   "outputs": [],
   "source": [
    "import pathlib\n",
    "data = {\"file_path\": pathlib.Path(\"../slides/src/config/01_Intro.yml\")}"
   ]
  },
  {
   "cell_type": "code",
   "execution_count": 2,
   "metadata": {},
   "outputs": [
    {
     "name": "stdout",
     "output_type": "stream",
     "text": [
      "reading\n",
      "summaraizeing\n",
      "art direction\n"
     ]
    }
   ],
   "source": [
    "from graph import graph\n",
    "\n",
    "result = graph.invoke(data)"
   ]
  },
  {
   "cell_type": "code",
   "execution_count": 1,
   "metadata": {},
   "outputs": [],
   "source": [
    "from image_generator import make_image, get_image_urls"
   ]
  },
  {
   "cell_type": "code",
   "execution_count": 2,
   "metadata": {},
   "outputs": [
    {
     "name": "stdout",
     "output_type": "stream",
     "text": [
      "376bafce-22fc-4711-bd3f-42ae4c95c97f\n"
     ]
    },
    {
     "ename": "KeyError",
     "evalue": "0",
     "output_type": "error",
     "traceback": [
      "\u001b[0;31m---------------------------------------------------------------------------\u001b[0m",
      "\u001b[0;31mKeyError\u001b[0m                                  Traceback (most recent call last)",
      "Cell \u001b[0;32mIn[2], line 1\u001b[0m\n\u001b[0;32m----> 1\u001b[0m \u001b[43mmake_image\u001b[49m\u001b[43m(\u001b[49m\u001b[38;5;124;43m\"\u001b[39;49m\u001b[38;5;124;43mA rubber duck on a cat\u001b[39;49m\u001b[38;5;124;43m\"\u001b[39;49m\u001b[43m,\u001b[49m\u001b[43m \u001b[49m\u001b[38;5;124;43m\"\u001b[39;49m\u001b[38;5;124;43m/Users/andrew/git/google-slides-downloader/slides/src/data/01_Intro/images/image_01.jpg\u001b[39;49m\u001b[38;5;124;43m\"\u001b[39;49m\u001b[43m)\u001b[49m\n",
      "File \u001b[0;32m~/git/google-slides-downloader/image-generator/image_generator.py:32\u001b[0m, in \u001b[0;36mmake_image\u001b[0;34m(prompt, output_path)\u001b[0m\n\u001b[1;32m     30\u001b[0m \u001b[38;5;28;01mif\u001b[39;00m generation_id:\n\u001b[1;32m     31\u001b[0m     time\u001b[38;5;241m.\u001b[39msleep(\u001b[38;5;241m25\u001b[39m)\n\u001b[0;32m---> 32\u001b[0m     generation_url \u001b[38;5;241m=\u001b[39m \u001b[43mget_image_urls\u001b[49m\u001b[43m(\u001b[49m\u001b[43mgeneration_id\u001b[49m\u001b[43m)\u001b[49m\n\u001b[1;32m     33\u001b[0m     \u001b[38;5;28;01mif\u001b[39;00m generation_url:\n\u001b[1;32m     34\u001b[0m         \u001b[38;5;28;01mreturn\u001b[39;00m download_image_url(generation_url, output_path)\n",
      "File \u001b[0;32m~/git/google-slides-downloader/image-generator/image_generator.py:66\u001b[0m, in \u001b[0;36mget_image_urls\u001b[0;34m(generation_id)\u001b[0m\n\u001b[1;32m     64\u001b[0m status_response \u001b[38;5;241m=\u001b[39m requests\u001b[38;5;241m.\u001b[39mget(status_url, headers\u001b[38;5;241m=\u001b[39mheaders)\n\u001b[1;32m     65\u001b[0m \u001b[38;5;28;01mif\u001b[39;00m status_response\u001b[38;5;241m.\u001b[39mstatus_code \u001b[38;5;241m==\u001b[39m \u001b[38;5;241m200\u001b[39m:\n\u001b[0;32m---> 66\u001b[0m     \u001b[38;5;28;01mreturn\u001b[39;00m \u001b[43mstatus_response\u001b[49m\u001b[38;5;241;43m.\u001b[39;49m\u001b[43mjson\u001b[49m\u001b[43m(\u001b[49m\u001b[43m)\u001b[49m\u001b[43m[\u001b[49m\u001b[38;5;241;43m0\u001b[39;49m\u001b[43m]\u001b[49m[\u001b[38;5;124m\"\u001b[39m\u001b[38;5;124mgenerations_by_pk\u001b[39m\u001b[38;5;124m\"\u001b[39m][\u001b[38;5;124m\"\u001b[39m\u001b[38;5;124mgenerated_images\u001b[39m\u001b[38;5;124m\"\u001b[39m][\u001b[38;5;241m0\u001b[39m][\n\u001b[1;32m     67\u001b[0m         \u001b[38;5;124m\"\u001b[39m\u001b[38;5;124murl\u001b[39m\u001b[38;5;124m\"\u001b[39m\n\u001b[1;32m     68\u001b[0m     ]\n",
      "\u001b[0;31mKeyError\u001b[0m: 0"
     ]
    }
   ],
   "source": [
    "\n",
    "make_image(\"A rubber duck on a cat\", \"/Users/andrew/git/google-slides-downloader/slides/src/data/01_Intro/images/image_01.jpg\")"
   ]
  },
  {
   "cell_type": "code",
   "execution_count": 3,
   "metadata": {},
   "outputs": [],
   "source": [
    "result = get_image_urls(\"1dc08879-788a-4fa0-bb1a-f0d7005d4958\")"
   ]
  },
  {
   "cell_type": "code",
   "execution_count": 4,
   "metadata": {},
   "outputs": [
    {
     "name": "stdout",
     "output_type": "stream",
     "text": [
      "Image downloaded and converted successfully: /Users/andrew/git/google-slides-downloader/slides/src/data/01_Intro/images/image_01.jpg\n"
     ]
    }
   ],
   "source": [
    "from image_generator import download_image_url\n",
    "download_image_url(\n",
    "    result,\n",
    "    \"/Users/andrew/git/google-slides-downloader/slides/src/data/01_Intro/images/image_01.jpg\",\n",
    ")"
   ]
  },
  {
   "cell_type": "code",
   "execution_count": null,
   "metadata": {},
   "outputs": [],
   "source": [
    "from analysis_graph import graph\n",
    "result = graph.invoke(\n",
    "    \"/Users/andrew/git/google-slides-downloader/slides/src/data/01_Intro/manifest.yml\"\n",
    ")"
   ]
  }
 ],
 "metadata": {
  "kernelspec": {
   "display_name": "venv",
   "language": "python",
   "name": "python3"
  },
  "language_info": {
   "codemirror_mode": {
    "name": "ipython",
    "version": 3
   },
   "file_extension": ".py",
   "mimetype": "text/x-python",
   "name": "python",
   "nbconvert_exporter": "python",
   "pygments_lexer": "ipython3",
   "version": "3.11.10"
  }
 },
 "nbformat": 4,
 "nbformat_minor": 2
}
